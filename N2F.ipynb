{
  "nbformat": 4,
  "nbformat_minor": 0,
  "metadata": {
    "colab": {
      "provenance": [],
      "gpuType": "T4"
    },
    "kernelspec": {
      "name": "python3",
      "display_name": "Python 3"
    },
    "language_info": {
      "name": "python"
    },
    "accelerator": "GPU"
  },
  "cells": [
    {
      "cell_type": "code",
      "source": [
        "# Copyright 2021, Jason Lequyer and Laurence Pelletier, All rights reserved.\n",
        "# Sinai Health System Lunenfeld-Tanenbaum Research Institute\n",
        "\n",
        "import torch\n",
        "import torch.nn as nn\n",
        "import torch.optim as optim\n",
        "import torch.nn.functional as F\n",
        "import numpy as np\n",
        "from PIL import Image\n",
        "import time\n",
        "\n",
        "# Set this to your input PNG image path\n",
        "image_path = 'Confocal_BPAE_R_4.png'  # Replace with your image\n",
        "out_path = image_path.replace('.png', '_N2F.png')\n",
        "\n",
        "tsince = 100\n",
        "device = torch.device(\"cuda:0\" if torch.cuda.is_available() else \"cpu\")\n",
        "\n",
        "class TwoCon(nn.Module):\n",
        "    def __init__(self, in_channels, out_channels):\n",
        "        super().__init__()\n",
        "        self.conv1 = nn.Conv2d(in_channels, out_channels, 3, padding=1)\n",
        "        self.conv2 = nn.Conv2d(out_channels, out_channels, 3, padding=1)\n",
        "\n",
        "    def forward(self, x):\n",
        "        x = F.relu(self.conv1(x))\n",
        "        x = F.relu(self.conv2(x))\n",
        "        return x\n",
        "\n",
        "class Net(nn.Module):\n",
        "    def __init__(self):\n",
        "        super().__init__()\n",
        "        self.conv1 = TwoCon(1, 64)\n",
        "        self.conv2 = TwoCon(64, 64)\n",
        "        self.conv3 = TwoCon(64, 64)\n",
        "        self.conv4 = TwoCon(64, 64)\n",
        "        self.conv6 = nn.Conv2d(64, 1, 1)\n",
        "\n",
        "    def forward(self, x):\n",
        "        x1 = self.conv1(x)\n",
        "        x2 = self.conv2(x1)\n",
        "        x3 = self.conv3(x2)\n",
        "        x = self.conv4(x3)\n",
        "        x = torch.sigmoid(self.conv6(x))\n",
        "        return x\n",
        "\n",
        "# Load PNG image\n",
        "img_pil = Image.open(image_path).convert(\"L\")  # Convert to grayscale\n",
        "img = np.array(img_pil)\n",
        "\n",
        "typer = type(img[0, 0])\n",
        "minner = np.amin(img)\n",
        "img = img - minner\n",
        "maxer = np.amax(img)\n",
        "img = img / maxer\n",
        "img = img.astype(np.float32)\n",
        "shape = img.shape\n",
        "\n",
        "# Ensure dimensions are even\n",
        "Zshape = [shape[0] - shape[0] % 2, shape[1] - shape[1] % 2]\n",
        "imgZ = img[:Zshape[0], :Zshape[1]]\n",
        "\n",
        "# Horizontal rearrangement\n",
        "imgin = np.zeros((Zshape[0]//2, Zshape[1]), dtype=np.float32)\n",
        "imgin2 = np.zeros((Zshape[0]//2, Zshape[1]), dtype=np.float32)\n",
        "for i in range(imgin.shape[0]):\n",
        "    for j in range(imgin.shape[1]):\n",
        "        if j % 2 == 0:\n",
        "            imgin[i, j] = imgZ[2*i+1, j]\n",
        "            imgin2[i, j] = imgZ[2*i, j]\n",
        "        else:\n",
        "            imgin[i, j] = imgZ[2*i, j]\n",
        "            imgin2[i, j] = imgZ[2*i+1, j]\n",
        "\n",
        "listimgH = [\n",
        "    torch.unsqueeze(torch.unsqueeze(torch.from_numpy(imgin), 0), 0).to(device),\n",
        "    torch.unsqueeze(torch.unsqueeze(torch.from_numpy(imgin2), 0), 0).to(device)\n",
        "]\n",
        "\n",
        "# Vertical rearrangement\n",
        "imgin3 = np.zeros((Zshape[0], Zshape[1]//2), dtype=np.float32)\n",
        "imgin4 = np.zeros((Zshape[0], Zshape[1]//2), dtype=np.float32)\n",
        "for i in range(imgin3.shape[0]):\n",
        "    for j in range(imgin3.shape[1]):\n",
        "        if i % 2 == 0:\n",
        "            imgin3[i, j] = imgZ[i, 2*j+1]\n",
        "            imgin4[i, j] = imgZ[i, 2*j]\n",
        "        else:\n",
        "            imgin3[i, j] = imgZ[i, 2*j]\n",
        "            imgin4[i, j] = imgZ[i, 2*j+1]\n",
        "\n",
        "listimgV = [\n",
        "    torch.unsqueeze(torch.unsqueeze(torch.from_numpy(imgin3), 0), 0).to(device),\n",
        "    torch.unsqueeze(torch.unsqueeze(torch.from_numpy(imgin4), 0), 0).to(device)\n",
        "]\n",
        "\n",
        "img_torch = torch.unsqueeze(torch.unsqueeze(torch.from_numpy(img), 0), 0).to(device)\n",
        "\n",
        "# Create pairs\n",
        "listimg = [\n",
        "    [listimgH[1], listimgH[0]],\n",
        "    [listimgH[0], listimgH[1]],\n",
        "    [listimgV[0], listimgV[1]],\n",
        "    [listimgV[1], listimgV[0]],\n",
        "]\n",
        "\n",
        "net = Net().to(device)\n",
        "criterion = nn.BCELoss()\n",
        "optimizer = optim.Adam(net.parameters(), lr=0.001)\n",
        "\n",
        "running_loss = 0.0\n",
        "maxpsnr = -np.inf\n",
        "timesince = 0\n",
        "last10 = [0] * 105\n",
        "last10psnr = [0] * 105\n",
        "cleaned = 0\n",
        "\n",
        "while timesince <= tsince:\n",
        "    indx = np.random.randint(0, len(listimg))\n",
        "    inputs, labello = listimg[indx]\n",
        "    optimizer.zero_grad()\n",
        "    outputs = net(inputs)\n",
        "    loss = criterion(outputs, labello)\n",
        "    running_loss += loss.item()\n",
        "    loss.backward()\n",
        "    optimizer.step()\n",
        "\n",
        "    with torch.no_grad():\n",
        "        last10.pop(0)\n",
        "        last10.append(cleaned * maxer + minner)\n",
        "        outputstest = net(img_torch)\n",
        "        cleaned = outputstest[0, 0, :, :].cpu().detach().numpy()\n",
        "        noisy = img_torch[0, 0, :, :].cpu().numpy()\n",
        "        ps = -np.mean((noisy - cleaned)**2)\n",
        "        last10psnr.pop(0)\n",
        "        last10psnr.append(ps)\n",
        "        if ps > maxpsnr:\n",
        "            maxpsnr = ps\n",
        "            outclean = cleaned * maxer + minner\n",
        "            timesince = 0\n",
        "        else:\n",
        "            timesince += 1.0\n",
        "\n",
        "# Final Output\n",
        "H = np.mean(last10, axis=0)\n",
        "\n",
        "# Save as PNG\n",
        "Image.fromarray(np.round(H).astype(np.uint8)).save(out_path)\n",
        "\n",
        "torch.cuda.empty_cache()\n",
        "\n",
        "print(f\"Output saved to: {out_path}\")\n"
      ],
      "metadata": {
        "colab": {
          "base_uri": "https://localhost:8080/"
        },
        "id": "hhFYc9CcVYQp",
        "outputId": "0a1a80bc-2734-4030-ab78-f410689f9839"
      },
      "execution_count": null,
      "outputs": [
        {
          "output_type": "stream",
          "name": "stdout",
          "text": [
            "Output saved to: Confocal_BPAE_R_4_N2F.png\n"
          ]
        }
      ]
    },
    {
      "cell_type": "code",
      "source": [
        "from google.colab import files\n",
        "files.download('Confocal_BPAE_R_4_N2F.png')"
      ],
      "metadata": {
        "colab": {
          "base_uri": "https://localhost:8080/",
          "height": 17
        },
        "id": "pe24XmrQZhEt",
        "outputId": "815565ab-ce24-4ed2-e415-a7c8f3b67f61"
      },
      "execution_count": null,
      "outputs": [
        {
          "output_type": "display_data",
          "data": {
            "text/plain": [
              "<IPython.core.display.Javascript object>"
            ],
            "application/javascript": [
              "\n",
              "    async function download(id, filename, size) {\n",
              "      if (!google.colab.kernel.accessAllowed) {\n",
              "        return;\n",
              "      }\n",
              "      const div = document.createElement('div');\n",
              "      const label = document.createElement('label');\n",
              "      label.textContent = `Downloading \"${filename}\": `;\n",
              "      div.appendChild(label);\n",
              "      const progress = document.createElement('progress');\n",
              "      progress.max = size;\n",
              "      div.appendChild(progress);\n",
              "      document.body.appendChild(div);\n",
              "\n",
              "      const buffers = [];\n",
              "      let downloaded = 0;\n",
              "\n",
              "      const channel = await google.colab.kernel.comms.open(id);\n",
              "      // Send a message to notify the kernel that we're ready.\n",
              "      channel.send({})\n",
              "\n",
              "      for await (const message of channel.messages) {\n",
              "        // Send a message to notify the kernel that we're ready.\n",
              "        channel.send({})\n",
              "        if (message.buffers) {\n",
              "          for (const buffer of message.buffers) {\n",
              "            buffers.push(buffer);\n",
              "            downloaded += buffer.byteLength;\n",
              "            progress.value = downloaded;\n",
              "          }\n",
              "        }\n",
              "      }\n",
              "      const blob = new Blob(buffers, {type: 'application/binary'});\n",
              "      const a = document.createElement('a');\n",
              "      a.href = window.URL.createObjectURL(blob);\n",
              "      a.download = filename;\n",
              "      div.appendChild(a);\n",
              "      a.click();\n",
              "      div.remove();\n",
              "    }\n",
              "  "
            ]
          },
          "metadata": {}
        },
        {
          "output_type": "display_data",
          "data": {
            "text/plain": [
              "<IPython.core.display.Javascript object>"
            ],
            "application/javascript": [
              "download(\"download_5d18db8a-eafa-4b82-8fc2-6ed332f73faf\", \"Confocal_BPAE_R_4_N2F.png\", 88638)"
            ]
          },
          "metadata": {}
        }
      ]
    },
    {
      "cell_type": "code",
      "source": [],
      "metadata": {
        "id": "Lrax2rVmZoyT"
      },
      "execution_count": null,
      "outputs": []
    }
  ]
}